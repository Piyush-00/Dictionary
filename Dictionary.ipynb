{
 "cells": [
  {
   "cell_type": "code",
   "execution_count": 1,
   "metadata": {},
   "outputs": [
    {
     "name": "stdout",
     "output_type": "stream",
     "text": [
      "Enter a word: bye\n",
      "A parting statement; used when one or more people in a situation, dialogue or location are leaving, while others remain.\n"
     ]
    }
   ],
   "source": [
    "#This is a common dictionary\n",
    "#Just input your word and get the meaning\n",
    "#get a similar word if the spelling is wrong\n",
    "#Created by Piyush-00 on 11-05-20\n",
    "#Copyright © 2020 Piyush Sapra. All rights reserved\n",
    "\n",
    "\n",
    "import json\n",
    "from difflib import get_close_matches\n",
    "\n",
    "data = json.load(open(\"data.json\"))             #dictionary data file\n",
    "\n",
    "def sample(w):\n",
    "    w = w.lower()\n",
    "    if w in data:\n",
    "        return data[w]\n",
    "    elif w.title() in data:                     #include titlecase\n",
    "        return data[w.title()]\n",
    "    elif w.upper() in data:                     #include uppercase\n",
    "        return data[w.upper()]\n",
    "    elif len(get_close_matches(w, data.keys())) > 0:\n",
    "        yn = input(\"Did you mean %s instead? Enter Y if yes, or N if no: \" % get_close_matches(w, data.keys())[0])\n",
    "        if yn == \"Y\":\n",
    "            return data[get_close_matches(w, data.keys())[0]]                   #get similar words\n",
    "        elif yn == \"N\":\n",
    "            return \"Sorry, the word doesn't exist. Try again.\"\n",
    "        else:\n",
    "            return \"We didn't understand your entry\"\n",
    "    else:\n",
    "        return \"Sorry, the word doesn't exist. Try again.\"\n",
    "    \n",
    "word = input(\"Enter a word: \")\n",
    "\n",
    "output = sample(word)\n",
    "\n",
    "if type(output) == list:\n",
    "    for item in output:\n",
    "        print(item)\n",
    "else:\n",
    "    print(output)"
   ]
  },
  {
   "cell_type": "code",
   "execution_count": null,
   "metadata": {},
   "outputs": [],
   "source": []
  },
  {
   "cell_type": "code",
   "execution_count": null,
   "metadata": {},
   "outputs": [],
   "source": []
  }
 ],
 "metadata": {
  "kernelspec": {
   "display_name": "Python 3",
   "language": "python",
   "name": "python3"
  },
  "language_info": {
   "codemirror_mode": {
    "name": "ipython",
    "version": 3
   },
   "file_extension": ".py",
   "mimetype": "text/x-python",
   "name": "python",
   "nbconvert_exporter": "python",
   "pygments_lexer": "ipython3",
   "version": "3.7.4"
  }
 },
 "nbformat": 4,
 "nbformat_minor": 2
}
